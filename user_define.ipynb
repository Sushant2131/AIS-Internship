{
 "cells": [
  {
   "cell_type": "markdown",
   "id": "badb37a6",
   "metadata": {},
   "source": [
    "# use define function"
   ]
  },
  {
   "cell_type": "code",
   "execution_count": 2,
   "id": "c8bb8840",
   "metadata": {},
   "outputs": [
    {
     "name": "stdout",
     "output_type": "stream",
     "text": [
      "Enter your name :sushant\n",
      "your name is  sushant\n"
     ]
    }
   ],
   "source": [
    "\n",
    "def name(a):\n",
    "    print(\"your name is \",a)\n",
    "name(a=input(\"Enter your name :\"))"
   ]
  },
  {
   "cell_type": "markdown",
   "id": "d516d942",
   "metadata": {},
   "source": [
    "# star of 3"
   ]
  },
  {
   "cell_type": "code",
   "execution_count": 3,
   "id": "106474b4",
   "metadata": {},
   "outputs": [
    {
     "name": "stdout",
     "output_type": "stream",
     "text": [
      "Enter the number of stars : 3\n",
      "*\n",
      "**\n",
      "***\n"
     ]
    }
   ],
   "source": [
    "def star(a):\n",
    "    for i in range(1,a+1):\n",
    "        for j in range(1,i+1):\n",
    "            print(\"*\",end=\"\")\n",
    "        print()\n",
    "        \n",
    "star(a=int(input(\"Enter the number of stars : \")))"
   ]
  },
  {
   "cell_type": "markdown",
   "id": "3ef3e2e0",
   "metadata": {},
   "source": [
    "# multiplication of 3 values"
   ]
  },
  {
   "cell_type": "code",
   "execution_count": 4,
   "id": "7bf6725f",
   "metadata": {},
   "outputs": [
    {
     "name": "stdout",
     "output_type": "stream",
     "text": [
      "540\n"
     ]
    }
   ],
   "source": [
    "def mul(a,b,c):\n",
    "    print(a*b*c)\n",
    "mul(12,45,1)"
   ]
  },
  {
   "cell_type": "markdown",
   "id": "6ddefb8b",
   "metadata": {},
   "source": [
    "# power function"
   ]
  },
  {
   "cell_type": "code",
   "execution_count": 5,
   "id": "acdb5988",
   "metadata": {},
   "outputs": [
    {
     "name": "stdout",
     "output_type": "stream",
     "text": [
      "8\n"
     ]
    }
   ],
   "source": [
    "def power(a,b):\n",
    "    print(a**b)\n",
    "power(2,3)\n"
   ]
  },
  {
   "cell_type": "markdown",
   "id": "23a00265",
   "metadata": {},
   "source": [
    "# cube of any value"
   ]
  },
  {
   "cell_type": "code",
   "execution_count": 6,
   "id": "90419793",
   "metadata": {},
   "outputs": [
    {
     "name": "stdout",
     "output_type": "stream",
     "text": [
      "Enter the number you want to cube : 2\n",
      "8\n"
     ]
    }
   ],
   "source": [
    "def cube(a):\n",
    "    print(a**3)\n",
    "\n",
    "cube(int(input(\"Enter the number you want to cube : \")))   "
   ]
  },
  {
   "cell_type": "markdown",
   "id": "2960c8d5",
   "metadata": {},
   "source": [
    "# varience of 5 values"
   ]
  },
  {
   "cell_type": "code",
   "execution_count": 11,
   "id": "7ef692e3",
   "metadata": {},
   "outputs": [
    {
     "name": "stdout",
     "output_type": "stream",
     "text": [
      "Enter the number : 1\n",
      "Enter the number : 2\n",
      "Enter the number : 3\n",
      "Enter the number : 4\n",
      "Enter the number : 5\n",
      "The variance of above the numbers are : 2.5\n"
     ]
    }
   ],
   "source": [
    "import statistics as s\n",
    "a=[]\n",
    "for i in range (1,6):\n",
    "    int(input(\"Enter the number : \"))\n",
    "    a.append(i)\n",
    "var=(s.variance(a))\n",
    "print(\"The variance of above the numbers are :\",var)\n"
   ]
  },
  {
   "cell_type": "markdown",
   "id": "f832eb30",
   "metadata": {},
   "source": [
    "# calculate the variance of given values"
   ]
  },
  {
   "cell_type": "code",
   "execution_count": 12,
   "id": "767d33f5",
   "metadata": {},
   "outputs": [
    {
     "name": "stdout",
     "output_type": "stream",
     "text": [
      "984292.7\n"
     ]
    }
   ],
   "source": [
    "import statistics as s\n",
    "var=(1,2455,65,45,12,5)\n",
    "print(s.variance(var))\n"
   ]
  },
  {
   "cell_type": "markdown",
   "id": "297cb3b7",
   "metadata": {},
   "source": [
    "# addition of only even number"
   ]
  },
  {
   "cell_type": "code",
   "execution_count": 90,
   "id": "d795b36d",
   "metadata": {},
   "outputs": [
    {
     "data": {
      "text/plain": [
       "32"
      ]
     },
     "execution_count": 90,
     "metadata": {},
     "output_type": "execute_result"
    }
   ],
   "source": [
    "def even_add(number):\n",
    "    a=0\n",
    "    for i in number:\n",
    "        if i % 2 ==0:\n",
    "           a=a+i\n",
    "    return a\n",
    "number=[1,2,3,4,5,6,7,8,9,1,2,3,4,5,6]\n",
    "even_add(number)\n",
    "\n"
   ]
  },
  {
   "cell_type": "markdown",
   "id": "f305ef68",
   "metadata": {},
   "source": [
    "# print name"
   ]
  },
  {
   "cell_type": "code",
   "execution_count": 103,
   "id": "4e16d953",
   "metadata": {},
   "outputs": [
    {
     "name": "stdout",
     "output_type": "stream",
     "text": [
      "1 sushant\n",
      "2 sushant\n",
      "3 sushant\n",
      "4 sushant\n",
      "5 sushant\n",
      "6 sushant\n",
      "7 sushant\n",
      "8 sushant\n",
      "9 sushant\n",
      "10 sushant\n",
      "11 sushant\n",
      "12 sushant\n",
      "13 sushant\n",
      "14 sushant\n",
      "15 sushant\n",
      "16 sushant\n",
      "17 sushant\n",
      "18 sushant\n",
      "19 sushant\n",
      "20 sushant\n",
      "21 sushant\n",
      "22 sushant\n",
      "23 sushant\n",
      "24 sushant\n",
      "25 sushant\n",
      "26 sushant\n",
      "27 sushant\n",
      "28 sushant\n",
      "29 sushant\n",
      "30 sushant\n",
      "31 sushant\n"
     ]
    }
   ],
   "source": [
    "def own():\n",
    "    for i in range(1,32):\n",
    "        print(i,\"sushant\")\n",
    "own()\n",
    "    \n",
    "        \n",
    "    "
   ]
  },
  {
   "cell_type": "markdown",
   "id": "c7dd1b4d",
   "metadata": {},
   "source": [
    "# create the list for specific range"
   ]
  },
  {
   "cell_type": "code",
   "execution_count": 117,
   "id": "148ac892",
   "metadata": {},
   "outputs": [
    {
     "name": "stdout",
     "output_type": "stream",
     "text": [
      "[20, 21, 22, 23, 24, 25, 26, 27, 28, 29, 30, 31, 32, 33, 34, 35, 36, 37, 38, 39, 40, 41, 42, 43, 44, 45, 46, 47, 48, 49, 50, 51, 52, 53, 54, 55]\n"
     ]
    }
   ],
   "source": [
    "def create_list(c,b):\n",
    "    i=1\n",
    "    a=[]\n",
    "    for i in range(c,b):\n",
    "        a.append(i)\n",
    "        i+i+1\n",
    "    print(a)\n",
    "create_list(20,56)"
   ]
  },
  {
   "cell_type": "code",
   "execution_count": null,
   "id": "b44bb27d",
   "metadata": {},
   "outputs": [],
   "source": []
  }
 ],
 "metadata": {
  "celltoolbar": "Raw Cell Format",
  "kernelspec": {
   "display_name": "Python 3 (ipykernel)",
   "language": "python",
   "name": "python3"
  },
  "language_info": {
   "codemirror_mode": {
    "name": "ipython",
    "version": 3
   },
   "file_extension": ".py",
   "mimetype": "text/x-python",
   "name": "python",
   "nbconvert_exporter": "python",
   "pygments_lexer": "ipython3",
   "version": "3.10.9"
  }
 },
 "nbformat": 4,
 "nbformat_minor": 5
}
