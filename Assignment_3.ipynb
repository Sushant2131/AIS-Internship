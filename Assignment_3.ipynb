{
 "cells": [
  {
   "cell_type": "markdown",
   "id": "1dce42a6",
   "metadata": {},
   "source": [
    "# 1. Write a Python function to find the maximum of from given"
   ]
  },
  {
   "cell_type": "code",
   "execution_count": 9,
   "id": "85e63142",
   "metadata": {},
   "outputs": [
    {
     "data": {
      "text/plain": [
       "346"
      ]
     },
     "execution_count": 9,
     "metadata": {},
     "output_type": "execute_result"
    }
   ],
   "source": [
    "def max_number(num):\n",
    "    for i in num:\n",
    "        return max(num)\n",
    "num=[5,78,345,47,36,47,346,3,235]\n",
    "max_number(num)"
   ]
  },
  {
   "cell_type": "markdown",
   "id": "c314480b",
   "metadata": {},
   "source": [
    "# 2)Write a Python function to sum all the numbers in a list.  Sample List : [8, 2, 3, 0, 7] Expected Output : 20"
   ]
  },
  {
   "cell_type": "code",
   "execution_count": 18,
   "id": "21d3840d",
   "metadata": {},
   "outputs": [
    {
     "name": "stdout",
     "output_type": "stream",
     "text": [
      "20\n"
     ]
    }
   ],
   "source": [
    "def add_list(a):\n",
    "    b=0\n",
    "    for i in range(len(a)):\n",
    "        b=b+a[i]\n",
    "    print(b)\n",
    "a=[8,2,3,0,7]\n",
    "add_list(a)\n",
    "        "
   ]
  },
  {
   "cell_type": "markdown",
   "id": "92e19efb",
   "metadata": {},
   "source": [
    "# 3)Write a Python function that takes a list and returns a new list with distinct elements from the first list.  Sample List : [1,2,3,3,3,3,4,5] Unique List : [1, 2, 3, 4, 5]"
   ]
  },
  {
   "cell_type": "code",
   "execution_count": 29,
   "id": "b5c0db13",
   "metadata": {},
   "outputs": [
    {
     "name": "stdout",
     "output_type": "stream",
     "text": [
      "[1, 2, 3, 4, 6, 7]\n"
     ]
    }
   ],
   "source": [
    "def unique_list(l):\n",
    "    a=[]\n",
    "    s = set(l)\n",
    "    unique = (list(s))\n",
    "    for i in unique:\n",
    "        a.append(i)\n",
    "    print(a)\n",
    "    \n",
    "l=[1,1,2,3,3,4,4,4,6,7,7]\n",
    "unique_list(l)\n",
    "    "
   ]
  },
  {
   "cell_type": "markdown",
   "id": "6586a26a",
   "metadata": {},
   "source": [
    "# 4)Write a Python function total number of  Combinations"
   ]
  },
  {
   "cell_type": "code",
   "execution_count": 35,
   "id": "62a9d2b2",
   "metadata": {},
   "outputs": [
    {
     "name": "stdout",
     "output_type": "stream",
     "text": [
      "('s', 'u')\n",
      "('s', 's')\n",
      "('s', 'h')\n",
      "('s', 'a')\n",
      "('s', 'n')\n",
      "('s', 't')\n",
      "('u', 's')\n",
      "('u', 'h')\n",
      "('u', 'a')\n",
      "('u', 'n')\n",
      "('u', 't')\n",
      "('s', 'h')\n",
      "('s', 'a')\n",
      "('s', 'n')\n",
      "('s', 't')\n",
      "('h', 'a')\n",
      "('h', 'n')\n",
      "('h', 't')\n",
      "('a', 'n')\n",
      "('a', 't')\n",
      "('n', 't')\n"
     ]
    }
   ],
   "source": [
    "from itertools import combinations as c\n",
    "\n",
    "def combo(a,n):\n",
    "    a=c(a,n)\n",
    "    for i in a:\n",
    "        print(i)\n",
    "s=\"sushant\"\n",
    "combo(s,2)\n",
    "    \n",
    "    "
   ]
  },
  {
   "cell_type": "markdown",
   "id": "4a261ef1",
   "metadata": {},
   "source": [
    "# 5)Write a Python function total number of  permutation "
   ]
  },
  {
   "cell_type": "code",
   "execution_count": 39,
   "id": "e0fe6a6e",
   "metadata": {},
   "outputs": [
    {
     "name": "stdout",
     "output_type": "stream",
     "text": [
      "(1, 2, 3)\n",
      "(1, 3, 2)\n",
      "(2, 1, 3)\n",
      "(2, 3, 1)\n",
      "(3, 1, 2)\n",
      "(3, 2, 1)\n"
     ]
    }
   ],
   "source": [
    "from itertools import permutations as p\n",
    "\n",
    "def per(val):\n",
    "    b=p(val)\n",
    "    for i in b:\n",
    "        print(i)\n",
    "val=(1,2,3)\n",
    "per(val)"
   ]
  },
  {
   "cell_type": "markdown",
   "id": "07692c11",
   "metadata": {},
   "source": [
    "# 6)Exercise 5: Define a function which counts vowels and consonant in a word."
   ]
  },
  {
   "cell_type": "code",
   "execution_count": 59,
   "id": "4655f5ce",
   "metadata": {},
   "outputs": [
    {
     "name": "stdout",
     "output_type": "stream",
     "text": [
      "enter what you want : sushant sanjay chougule\n",
      "count of vowels : 8\n",
      "count of consonant : 15\n"
     ]
    }
   ],
   "source": [
    "def vowel_count(n):\n",
    "    count = 0\n",
    "    count1 = 0\n",
    "    vowel = set(\"aeiouAEIOU\")\n",
    "    for alphabet in n:\n",
    "        if alphabet in vowel:\n",
    "            count = count + 1\n",
    "        elif alphabet not in vowel:\n",
    "            count1=count1+1\n",
    "     \n",
    "    print(\"count of vowels :\", count)\n",
    "    print(\"count of consonant :\", count1)\n",
    "n=input(\"enter what you want : \")\n",
    "vowel_count(n)"
   ]
  },
  {
   "cell_type": "markdown",
   "id": "0413b9d7",
   "metadata": {},
   "source": [
    "# 7): Define a function that accepts lowercase words and returns uppercase words."
   ]
  },
  {
   "cell_type": "code",
   "execution_count": 64,
   "id": "c4f8491d",
   "metadata": {},
   "outputs": [
    {
     "name": "stdout",
     "output_type": "stream",
     "text": [
      "enter what you want : sushant sanjay chougule\n",
      "SUSHANT SANJAY CHOUGULE\n"
     ]
    }
   ],
   "source": [
    "def upper_case(a):\n",
    "    print(a.upper())\n",
    "a=input(\"enter what you want : \")\n",
    "upper_case(a)"
   ]
  },
  {
   "cell_type": "markdown",
   "id": "3d51565e",
   "metadata": {},
   "source": [
    "# 8) count lower case and upper case  letter."
   ]
  },
  {
   "cell_type": "code",
   "execution_count": null,
   "id": "65e31507",
   "metadata": {},
   "outputs": [],
   "source": [
    "def count_letters(a):\n",
    "  count = 0\n",
    "  count1 = 0\n",
    "  for letter in a:\n",
    "    if letter.islower():\n",
    "       count += 1\n",
    "    elif letter.isupper():\n",
    "      count1 += 1\n",
    "  return count,count1\n",
    "\n",
    "\n",
    "a=input(\"enter what you want : \")\n",
    "x,y=count_letters(a)\n",
    "print(\"upper case latter in your typing is : \",x)\n",
    "print(\"lower case latter in your typing is : \",y)\n"
   ]
  }
 ],
 "metadata": {
  "kernelspec": {
   "display_name": "Python 3 (ipykernel)",
   "language": "python",
   "name": "python3"
  },
  "language_info": {
   "codemirror_mode": {
    "name": "ipython",
    "version": 3
   },
   "file_extension": ".py",
   "mimetype": "text/x-python",
   "name": "python",
   "nbconvert_exporter": "python",
   "pygments_lexer": "ipython3",
   "version": "3.10.9"
  }
 },
 "nbformat": 4,
 "nbformat_minor": 5
}
